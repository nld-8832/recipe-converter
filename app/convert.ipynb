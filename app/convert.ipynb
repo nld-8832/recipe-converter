{
 "cells": [
  {
   "cell_type": "code",
   "execution_count": 3,
   "metadata": {},
   "outputs": [],
   "source": [
    "from pathlib import Path\n",
    "from natsort import natsorted, ns\n",
    "import cv2\n",
    "\n",
    "import numpy as np\n",
    "import io\n",
    "import json\n",
    "import requests\n",
    "import glob\n",
    "\n",
    "from tensorflow.keras.models import load_model\n",
    "\n",
    "import sys\n",
    "sys.path.append('/models/')\n",
    "from preprocess import get_image, resize, preprocess_mobile_image, sentences_segmentate, resize_sentences_for_model, preprocess_for_model\n",
    "from pathlib import Path\n",
    "from natsort import natsorted, ns"
   ]
  },
  {
   "cell_type": "code",
   "execution_count": 6,
   "metadata": {},
   "outputs": [],
   "source": [
    "img = get_image(\"../sc0002.jpg\")"
   ]
  },
  {
   "cell_type": "code",
   "execution_count": 9,
   "metadata": {},
   "outputs": [],
   "source": [
    "url_api = \"https://api.ocr.space/parse/image\"\n",
    "_, compressedImage = cv2.imencode(\".jpg\", img, [1, 90]) #Free tier API only allows image <1MB\n",
    "file_bytes = io.BytesIO(compressedImage)\n",
    "\n",
    "result = requests.post(url_api, files = {\"screenshot.jpg\": file_bytes}, data = {\"apikey\": \"ff0f1158f788957\", \"language\": \"eng\"})\n",
    "result = result.content.decode()\n",
    "result = json.loads(result)\n",
    "parsed_results = result.get(\"ParsedResults\")[0]\n",
    "text_detected = parsed_results.get(\"ParsedText\")\n"
   ]
  },
  {
   "cell_type": "code",
   "execution_count": 12,
   "metadata": {
    "tags": []
   },
   "outputs": [
    {
     "output_type": "stream",
     "name": "stdout",
     "text": "2 tablespoons cornstarch\n1 Y2 tablespoons water\n6 cups chicken broth\n2 Y2 tablespoons soy sauce\n1 tablespoon fish sauce\n1 tablespoon rice vinegar\n\n"
    }
   ],
   "source": [
    "print(text_detected)\n",
    "\n",
    "text_list = text_detected.split('\\n')\n",
    "text_list_strip = [b.replace('\\r', '') for b in text_list]\n"
   ]
  },
  {
   "cell_type": "code",
   "execution_count": 15,
   "metadata": {
    "tags": []
   },
   "outputs": [],
   "source": [
    "text_list_strip_1 = [b.replace('Y2', '1/2') for b in text_list_strip]\n",
    "text_list_strip_2 = [b.replace('Y3', '1/3') for b in text_list_strip_1]\n",
    "text_list_strip_3 = [b.replace('Y4', '1/4') for b in text_list_strip_2]\n",
    "text_list_strip = [b.replace('Y8', '1/8') for b in text_list_strip_3]\n",
    "\n",
    "text_list_strip = filter(None, text_list_strip)"
   ]
  },
  {
   "cell_type": "code",
   "execution_count": 25,
   "metadata": {
    "tags": []
   },
   "outputs": [
    {
     "output_type": "error",
     "ename": "ModuleNotFoundError",
     "evalue": "No module named 'sklearn_crfsuite'",
     "traceback": [
      "\u001b[1;31m---------------------------------------------------------------------------\u001b[0m",
      "\u001b[1;31mModuleNotFoundError\u001b[0m                       Traceback (most recent call last)",
      "\u001b[1;32m<ipython-input-25-c474c59d2f12>\u001b[0m in \u001b[0;36m<module>\u001b[1;34m\u001b[0m\n\u001b[0;32m      1\u001b[0m \u001b[1;32mimport\u001b[0m \u001b[0msys\u001b[0m\u001b[1;33m\u001b[0m\u001b[1;33m\u001b[0m\u001b[0m\n\u001b[0;32m      2\u001b[0m \u001b[0msys\u001b[0m\u001b[1;33m.\u001b[0m\u001b[0mpath\u001b[0m\u001b[1;33m.\u001b[0m\u001b[0mappend\u001b[0m\u001b[1;33m(\u001b[0m\u001b[1;34m'/models/'\u001b[0m\u001b[1;33m)\u001b[0m\u001b[1;33m\u001b[0m\u001b[1;33m\u001b[0m\u001b[0m\n\u001b[1;32m----> 3\u001b[1;33m \u001b[1;32mimport\u001b[0m \u001b[0msklearn_crfsuite\u001b[0m \u001b[1;32mas\u001b[0m \u001b[0mcrf\u001b[0m\u001b[1;33m\u001b[0m\u001b[1;33m\u001b[0m\u001b[0m\n\u001b[0m\u001b[0;32m      4\u001b[0m \u001b[1;32mfrom\u001b[0m \u001b[0mmodels\u001b[0m\u001b[1;33m.\u001b[0m\u001b[0mparsing\u001b[0m \u001b[1;32mimport\u001b[0m \u001b[0mtokenize\u001b[0m\u001b[1;33m,\u001b[0m \u001b[0mstandardize\u001b[0m\u001b[1;33m,\u001b[0m \u001b[0masfloat\u001b[0m\u001b[1;33m\u001b[0m\u001b[1;33m\u001b[0m\u001b[0m\n\u001b[0;32m      5\u001b[0m \u001b[1;32mfrom\u001b[0m \u001b[0mmodels\u001b[0m\u001b[1;33m.\u001b[0m\u001b[0mevaluate\u001b[0m \u001b[1;32mimport\u001b[0m \u001b[0mgetlabels\u001b[0m\u001b[1;33m\u001b[0m\u001b[1;33m\u001b[0m\u001b[0m\n",
      "\u001b[1;31mModuleNotFoundError\u001b[0m: No module named 'sklearn_crfsuite'"
     ]
    }
   ],
   "source": [
    "import sys\n",
    "sys.path.append('/models/')\n",
    "import sklearn_crfsuite as crf\n",
    "from models.parsing import tokenize, standardize, asfloat\n",
    "from models.evaluate import getlabels\n",
    "from models.training import removeiob, getfeatures"
   ]
  },
  {
   "cell_type": "code",
   "execution_count": null,
   "metadata": {
    "tags": []
   },
   "outputs": [],
   "source": [
    "crf_model = \"models/model.crfsuite\"\n",
    "\n",
    "import requests\n",
    "import json\n",
    "\n",
    "def displaytags(tokens, tags):\n",
    "    # Make a table with pandas and transpose to make horizontal\n",
    "    df = pd.DataFrame(tokens, removeiob(pred)).transpose()\n",
    "    # Print string representation with adjusted spacing and display options\n",
    "    print(df.to_string(index=False, justify='center', col_space=8, max_cols=15))\n",
    "\n",
    "INGREDIENTS = [\"B-INGR\", \"I-INGR\"]\n",
    "QTY = [\"B-QTY\", \"I-QTY\"]\n",
    "UNITS = [\"B-UNIT\", \"I-UNIT\"]\n",
    "IMPERIALS = [\"tablespoon\", \"teaspoon\", \"cup\", \"ounce\", \"pound\"]"
   ]
  },
  {
   "cell_type": "code",
   "execution_count": 24,
   "metadata": {
    "tags": []
   },
   "outputs": [
    {
     "output_type": "error",
     "ename": "NameError",
     "evalue": "name 'tokenize' is not defined",
     "traceback": [
      "\u001b[1;31m---------------------------------------------------------------------------\u001b[0m",
      "\u001b[1;31mNameError\u001b[0m                                 Traceback (most recent call last)",
      "\u001b[1;32m<ipython-input-24-29016fe45e4f>\u001b[0m in \u001b[0;36m<module>\u001b[1;34m\u001b[0m\n\u001b[0;32m      6\u001b[0m     \u001b[0munit_list\u001b[0m \u001b[1;33m=\u001b[0m \u001b[1;33m[\u001b[0m\u001b[1;33m]\u001b[0m\u001b[1;33m\u001b[0m\u001b[1;33m\u001b[0m\u001b[0m\n\u001b[0;32m      7\u001b[0m \u001b[1;33m\u001b[0m\u001b[0m\n\u001b[1;32m----> 8\u001b[1;33m     \u001b[0mtokens\u001b[0m \u001b[1;33m=\u001b[0m \u001b[0mtokenize\u001b[0m\u001b[1;33m(\u001b[0m\u001b[0mitem\u001b[0m\u001b[1;33m,\u001b[0m \u001b[0mpreprocess\u001b[0m\u001b[1;33m=\u001b[0m\u001b[1;32mTrue\u001b[0m\u001b[1;33m)\u001b[0m\u001b[1;33m\u001b[0m\u001b[1;33m\u001b[0m\u001b[0m\n\u001b[0m\u001b[0;32m      9\u001b[0m     \u001b[0mpreds\u001b[0m \u001b[1;33m=\u001b[0m \u001b[0mgetlabels\u001b[0m\u001b[1;33m(\u001b[0m\u001b[0mitem\u001b[0m\u001b[1;33m,\u001b[0m \u001b[0mcrf_model\u001b[0m\u001b[1;33m)\u001b[0m\u001b[1;33m\u001b[0m\u001b[1;33m\u001b[0m\u001b[0m\n\u001b[0;32m     10\u001b[0m     \u001b[0mprint\u001b[0m\u001b[1;33m(\u001b[0m\u001b[0mtokens\u001b[0m\u001b[1;33m)\u001b[0m\u001b[1;33m\u001b[0m\u001b[1;33m\u001b[0m\u001b[0m\n",
      "\u001b[1;31mNameError\u001b[0m: name 'tokenize' is not defined"
     ]
    }
   ],
   "source": [
    "converted_grams = []\n",
    "\n",
    "for item in text_list_strip:\n",
    "    ingredient_list = []\n",
    "    qty_list = []\n",
    "    unit_list = []\n",
    "\n",
    "    tokens = tokenize(item, preprocess=True)\n",
    "    preds = getlabels(item, crf_model)\n",
    "    print(tokens)\n",
    "    print(preds)\n",
    "    #displaytags(tokens, preds)\n",
    "\n",
    "    for token, pred in zip(tokens, preds):\n",
    "        if (pred in INGREDIENTS):\n",
    "            ingredient_list.append(token)\n",
    "        elif (pred in QTY):\n",
    "            qty_list.append(token)\n",
    "        elif (pred in UNITS):\n",
    "            unit_list.append(token)\n",
    "\n",
    "        ingredient_string = ' '.join(ingredient_list)\n",
    "        qty_string = ' '.join(qty_list)\n",
    "        qty_string = asfloat(qty_string)\n",
    "        unit_string = ' '.join(unit_list)\n",
    "        unit_string = standardize(unit_string)\n",
    "        print(unit_string)\n",
    "    #print('-'*100)\n",
    "    \n",
    "    if (unit_string in IMPERIALS):\n",
    "        data = {\n",
    "            \"apiKey\": \"ef6e10dabdeb46d7a0088c6ea82b55ed\",\n",
    "            \"ingredientName\": ingredient_string,\n",
    "            \"sourceAmount\": qty_string,\n",
    "            \"sourceUnit\": unit_string,\n",
    "            \"targetUnit\": \"grams\"\n",
    "        }\n",
    "\n",
    "        datajson = json.dumps(data)\n",
    "        responselogin = requests.get(url='https://api.spoonacular.com/recipes/convert', params=data)\n",
    "        #print(responselogin.status_code)\n",
    "        result = responselogin.json()\n",
    "        print(result)\n",
    "\n",
    "        grams = result['answer']\n",
    "        if(grams is not None):\n",
    "            converted_grams = converted_grams.append(grams)\n",
    "    print('-'*100)\n",
    "\n",
    "print(converted_grams)\n"
   ]
  }
 ],
 "metadata": {
  "language_info": {
   "codemirror_mode": {
    "name": "ipython",
    "version": 3
   },
   "file_extension": ".py",
   "mimetype": "text/x-python",
   "name": "python",
   "nbconvert_exporter": "python",
   "pygments_lexer": "ipython3",
   "version": "3.8.3-final"
  },
  "orig_nbformat": 2,
  "kernelspec": {
   "name": "python_defaultSpec_1594410318717",
   "display_name": "Python 3.8.3 64-bit ('venv': venv)"
  }
 },
 "nbformat": 4,
 "nbformat_minor": 2
}