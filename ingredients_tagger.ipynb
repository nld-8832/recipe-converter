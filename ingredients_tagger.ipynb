{
  "nbformat": 4,
  "nbformat_minor": 0,
  "metadata": {
    "colab": {
      "name": "ingredients_tagger.ipynb",
      "provenance": []
    },
    "kernelspec": {
      "name": "python3",
      "display_name": "Python 3"
    }
  },
  "cells": [
    {
      "cell_type": "code",
      "metadata": {
        "id": "cX7rIMi65PJt",
        "colab_type": "code",
        "colab": {
          "base_uri": "https://localhost:8080/",
          "height": 139
        },
        "outputId": "affb13db-bca3-4624-b6c3-282588968a94"
      },
      "source": [
        "#!pip install -q python-crfsuite\n",
        "!pip install -q sklearn-crfsuite\n",
        "!git clone https://github.com/simejisan/ML_Course_2020.git\n"
      ],
      "execution_count": null,
      "outputs": [
        {
          "output_type": "stream",
          "text": [
            "\u001b[?25l\r\u001b[K     |▍                               | 10kB 20.8MB/s eta 0:00:01\r\u001b[K     |▉                               | 20kB 7.2MB/s eta 0:00:01\r\u001b[K     |█▎                              | 30kB 2.3MB/s eta 0:00:01\r\u001b[K     |█▊                              | 40kB 3.1MB/s eta 0:00:01\r\u001b[K     |██▏                             | 51kB 3.4MB/s eta 0:00:01\r\u001b[K     |██▋                             | 61kB 3.8MB/s eta 0:00:01\r\u001b[K     |███                             | 71kB 4.0MB/s eta 0:00:01\r\u001b[K     |███▌                            | 81kB 4.3MB/s eta 0:00:01\r\u001b[K     |████                            | 92kB 3.5MB/s eta 0:00:01\r\u001b[K     |████▍                           | 102kB 3.8MB/s eta 0:00:01\r\u001b[K     |████▉                           | 112kB 3.8MB/s eta 0:00:01\r\u001b[K     |█████▎                          | 122kB 3.8MB/s eta 0:00:01\r\u001b[K     |█████▊                          | 133kB 3.8MB/s eta 0:00:01\r\u001b[K     |██████▏                         | 143kB 3.8MB/s eta 0:00:01\r\u001b[K     |██████▋                         | 153kB 3.8MB/s eta 0:00:01\r\u001b[K     |███████                         | 163kB 3.8MB/s eta 0:00:01\r\u001b[K     |███████▌                        | 174kB 3.8MB/s eta 0:00:01\r\u001b[K     |████████                        | 184kB 3.8MB/s eta 0:00:01\r\u001b[K     |████████▍                       | 194kB 3.8MB/s eta 0:00:01\r\u001b[K     |████████▉                       | 204kB 3.8MB/s eta 0:00:01\r\u001b[K     |█████████▎                      | 215kB 3.8MB/s eta 0:00:01\r\u001b[K     |█████████▊                      | 225kB 3.8MB/s eta 0:00:01\r\u001b[K     |██████████▏                     | 235kB 3.8MB/s eta 0:00:01\r\u001b[K     |██████████▋                     | 245kB 3.8MB/s eta 0:00:01\r\u001b[K     |███████████                     | 256kB 3.8MB/s eta 0:00:01\r\u001b[K     |███████████▌                    | 266kB 3.8MB/s eta 0:00:01\r\u001b[K     |████████████                    | 276kB 3.8MB/s eta 0:00:01\r\u001b[K     |████████████▎                   | 286kB 3.8MB/s eta 0:00:01\r\u001b[K     |████████████▊                   | 296kB 3.8MB/s eta 0:00:01\r\u001b[K     |█████████████▏                  | 307kB 3.8MB/s eta 0:00:01\r\u001b[K     |█████████████▋                  | 317kB 3.8MB/s eta 0:00:01\r\u001b[K     |██████████████                  | 327kB 3.8MB/s eta 0:00:01\r\u001b[K     |██████████████▌                 | 337kB 3.8MB/s eta 0:00:01\r\u001b[K     |███████████████                 | 348kB 3.8MB/s eta 0:00:01\r\u001b[K     |███████████████▍                | 358kB 3.8MB/s eta 0:00:01\r\u001b[K     |███████████████▉                | 368kB 3.8MB/s eta 0:00:01\r\u001b[K     |████████████████▎               | 378kB 3.8MB/s eta 0:00:01\r\u001b[K     |████████████████▊               | 389kB 3.8MB/s eta 0:00:01\r\u001b[K     |█████████████████▏              | 399kB 3.8MB/s eta 0:00:01\r\u001b[K     |█████████████████▋              | 409kB 3.8MB/s eta 0:00:01\r\u001b[K     |██████████████████              | 419kB 3.8MB/s eta 0:00:01\r\u001b[K     |██████████████████▌             | 430kB 3.8MB/s eta 0:00:01\r\u001b[K     |███████████████████             | 440kB 3.8MB/s eta 0:00:01\r\u001b[K     |███████████████████▍            | 450kB 3.8MB/s eta 0:00:01\r\u001b[K     |███████████████████▉            | 460kB 3.8MB/s eta 0:00:01\r\u001b[K     |████████████████████▎           | 471kB 3.8MB/s eta 0:00:01\r\u001b[K     |████████████████████▊           | 481kB 3.8MB/s eta 0:00:01\r\u001b[K     |█████████████████████▏          | 491kB 3.8MB/s eta 0:00:01\r\u001b[K     |█████████████████████▋          | 501kB 3.8MB/s eta 0:00:01\r\u001b[K     |██████████████████████          | 512kB 3.8MB/s eta 0:00:01\r\u001b[K     |██████████████████████▌         | 522kB 3.8MB/s eta 0:00:01\r\u001b[K     |███████████████████████         | 532kB 3.8MB/s eta 0:00:01\r\u001b[K     |███████████████████████▍        | 542kB 3.8MB/s eta 0:00:01\r\u001b[K     |███████████████████████▉        | 552kB 3.8MB/s eta 0:00:01\r\u001b[K     |████████████████████████▎       | 563kB 3.8MB/s eta 0:00:01\r\u001b[K     |████████████████████████▋       | 573kB 3.8MB/s eta 0:00:01\r\u001b[K     |█████████████████████████       | 583kB 3.8MB/s eta 0:00:01\r\u001b[K     |█████████████████████████▌      | 593kB 3.8MB/s eta 0:00:01\r\u001b[K     |██████████████████████████      | 604kB 3.8MB/s eta 0:00:01\r\u001b[K     |██████████████████████████▍     | 614kB 3.8MB/s eta 0:00:01\r\u001b[K     |██████████████████████████▉     | 624kB 3.8MB/s eta 0:00:01\r\u001b[K     |███████████████████████████▎    | 634kB 3.8MB/s eta 0:00:01\r\u001b[K     |███████████████████████████▊    | 645kB 3.8MB/s eta 0:00:01\r\u001b[K     |████████████████████████████▏   | 655kB 3.8MB/s eta 0:00:01\r\u001b[K     |████████████████████████████▋   | 665kB 3.8MB/s eta 0:00:01\r\u001b[K     |█████████████████████████████   | 675kB 3.8MB/s eta 0:00:01\r\u001b[K     |█████████████████████████████▌  | 686kB 3.8MB/s eta 0:00:01\r\u001b[K     |██████████████████████████████  | 696kB 3.8MB/s eta 0:00:01\r\u001b[K     |██████████████████████████████▍ | 706kB 3.8MB/s eta 0:00:01\r\u001b[K     |██████████████████████████████▉ | 716kB 3.8MB/s eta 0:00:01\r\u001b[K     |███████████████████████████████▎| 727kB 3.8MB/s eta 0:00:01\r\u001b[K     |███████████████████████████████▊| 737kB 3.8MB/s eta 0:00:01\r\u001b[K     |████████████████████████████████| 747kB 3.8MB/s \n",
            "\u001b[?25hCloning into 'ML_Course_2020'...\n",
            "remote: Enumerating objects: 8, done.\u001b[K\n",
            "remote: Counting objects: 100% (8/8), done.\u001b[K\n",
            "remote: Compressing objects: 100% (8/8), done.\u001b[K\n",
            "remote: Total 23 (delta 1), reused 0 (delta 0), pack-reused 15\u001b[K\n",
            "Unpacking objects: 100% (23/23), done.\n"
          ],
          "name": "stdout"
        }
      ]
    },
    {
      "cell_type": "code",
      "metadata": {
        "id": "4fSLeJ7yMulS",
        "colab_type": "code",
        "colab": {
          "base_uri": "https://localhost:8080/",
          "height": 211
        },
        "outputId": "3c18af4a-d737-429c-bbc8-f10c18b1164f"
      },
      "source": [
        "!pip install pandarallel"
      ],
      "execution_count": null,
      "outputs": [
        {
          "output_type": "stream",
          "text": [
            "Collecting pandarallel\n",
            "  Downloading https://files.pythonhosted.org/packages/99/06/bd582106766c483d6da51c05b0cdd7cb61894bb843c7ecc4789032232327/pandarallel-1.4.8.tar.gz\n",
            "Requirement already satisfied: dill in /usr/local/lib/python3.6/dist-packages (from pandarallel) (0.3.2)\n",
            "Building wheels for collected packages: pandarallel\n",
            "  Building wheel for pandarallel (setup.py) ... \u001b[?25l\u001b[?25hdone\n",
            "  Created wheel for pandarallel: filename=pandarallel-1.4.8-cp36-none-any.whl size=16112 sha256=f618a0ecfcf006f18488cb2e5ff07e7a18d6a3d8b1948fda6bf8f9bc2228ae88\n",
            "  Stored in directory: /root/.cache/pip/wheels/75/a2/85/b45be2e86d86e9ec5da6d05c4b994d18c81abe76e3f39415aa\n",
            "Successfully built pandarallel\n",
            "Installing collected packages: pandarallel\n",
            "Successfully installed pandarallel-1.4.8\n"
          ],
          "name": "stdout"
        }
      ]
    },
    {
      "cell_type": "code",
      "metadata": {
        "id": "LxpNswh8gzya",
        "colab_type": "code",
        "colab": {}
      },
      "source": [
        "from itertools import chain\n",
        "import nltk\n",
        "from sklearn.metrics import classification_report, confusion_matrix\n",
        "from sklearn.preprocessing import LabelBinarizer\n",
        "import sklearn_crfsuite as crf\n",
        "from sklearn_crfsuite import scorers\n",
        "from sklearn_crfsuite import metrics\n",
        "from collections import Counter\n",
        "import pandas as pd\n",
        "import numpy as np\n",
        "import re\n",
        "import os.path\n",
        "from itertools import chain\n",
        "from parsing import symbols, tokenize, standardize, isquantity, isunit, asfloat, tokenmatch, round_2f, iobtag, removeiob\n",
        "\n",
        "\n"
      ],
      "execution_count": null,
      "outputs": []
    },
    {
      "cell_type": "code",
      "metadata": {
        "colab_type": "code",
        "id": "GQ18Kd5F3uKe",
        "colab": {}
      },
      "source": [
        "url = 'https://raw.githubusercontent.com/simejisan/ML_Course_2020/master/nyt-ingredients-snapshot-2015.csv'\n",
        "df = pd.read_csv(url)\n"
      ],
      "execution_count": null,
      "outputs": []
    },
    {
      "cell_type": "code",
      "metadata": {
        "id": "VuFvgTWUW3Hv",
        "colab_type": "code",
        "colab": {}
      },
      "source": [
        "pd.read_csv('nyt-ingredients-snapshot-2015.csv', delimiter =',')"
      ],
      "execution_count": null,
      "outputs": []
    },
    {
      "cell_type": "code",
      "metadata": {
        "id": "htNinNwZc8r7",
        "colab_type": "code",
        "colab": {
          "base_uri": "https://localhost:8080/",
          "height": 200
        },
        "outputId": "8a676547-33aa-4f24-9a27-a1a42a31e426"
      },
      "source": [
        "df = df[:100000]\n",
        "df.head()"
      ],
      "execution_count": null,
      "outputs": [
        {
          "output_type": "execute_result",
          "data": {
            "text/html": [
              "<div>\n",
              "<style scoped>\n",
              "    .dataframe tbody tr th:only-of-type {\n",
              "        vertical-align: middle;\n",
              "    }\n",
              "\n",
              "    .dataframe tbody tr th {\n",
              "        vertical-align: top;\n",
              "    }\n",
              "\n",
              "    .dataframe thead th {\n",
              "        text-align: right;\n",
              "    }\n",
              "</style>\n",
              "<table border=\"1\" class=\"dataframe\">\n",
              "  <thead>\n",
              "    <tr style=\"text-align: right;\">\n",
              "      <th></th>\n",
              "      <th>index</th>\n",
              "      <th>input</th>\n",
              "      <th>name</th>\n",
              "      <th>qty</th>\n",
              "      <th>range_end</th>\n",
              "      <th>unit</th>\n",
              "      <th>comment</th>\n",
              "    </tr>\n",
              "  </thead>\n",
              "  <tbody>\n",
              "    <tr>\n",
              "      <th>0</th>\n",
              "      <td>0</td>\n",
              "      <td>1 1/4 cups cooked and pureed fresh butternut s...</td>\n",
              "      <td>butternut squash</td>\n",
              "      <td>1.25</td>\n",
              "      <td>0.0</td>\n",
              "      <td>cup</td>\n",
              "      <td>cooked and pureed fresh, or 1 10-ounce package...</td>\n",
              "    </tr>\n",
              "    <tr>\n",
              "      <th>1</th>\n",
              "      <td>1</td>\n",
              "      <td>1 cup peeled and cooked fresh chestnuts (about...</td>\n",
              "      <td>chestnuts</td>\n",
              "      <td>1.00</td>\n",
              "      <td>0.0</td>\n",
              "      <td>cup</td>\n",
              "      <td>peeled and cooked fresh (about 20), or 1 cup c...</td>\n",
              "    </tr>\n",
              "    <tr>\n",
              "      <th>2</th>\n",
              "      <td>2</td>\n",
              "      <td>1 medium-size onion, peeled and chopped</td>\n",
              "      <td>onion</td>\n",
              "      <td>1.00</td>\n",
              "      <td>0.0</td>\n",
              "      <td>NaN</td>\n",
              "      <td>medium-size, peeled and chopped</td>\n",
              "    </tr>\n",
              "    <tr>\n",
              "      <th>3</th>\n",
              "      <td>3</td>\n",
              "      <td>2 stalks celery, chopped coarse</td>\n",
              "      <td>celery</td>\n",
              "      <td>2.00</td>\n",
              "      <td>0.0</td>\n",
              "      <td>stalk</td>\n",
              "      <td>chopped coarse</td>\n",
              "    </tr>\n",
              "    <tr>\n",
              "      <th>4</th>\n",
              "      <td>4</td>\n",
              "      <td>1 1/2 tablespoons vegetable oil</td>\n",
              "      <td>vegetable oil</td>\n",
              "      <td>1.50</td>\n",
              "      <td>0.0</td>\n",
              "      <td>tablespoon</td>\n",
              "      <td>NaN</td>\n",
              "    </tr>\n",
              "  </tbody>\n",
              "</table>\n",
              "</div>"
            ],
            "text/plain": [
              "   index  ...                                            comment\n",
              "0      0  ...  cooked and pureed fresh, or 1 10-ounce package...\n",
              "1      1  ...  peeled and cooked fresh (about 20), or 1 cup c...\n",
              "2      2  ...                    medium-size, peeled and chopped\n",
              "3      3  ...                                     chopped coarse\n",
              "4      4  ...                                                NaN\n",
              "\n",
              "[5 rows x 7 columns]"
            ]
          },
          "metadata": {
            "tags": []
          },
          "execution_count": 31
        }
      ]
    },
    {
      "cell_type": "code",
      "metadata": {
        "id": "JvifM4K1dn2j",
        "colab_type": "code",
        "colab": {
          "base_uri": "https://localhost:8080/",
          "height": 159
        },
        "outputId": "0988fa81-3929-4d5f-9c0e-888efa7fca38"
      },
      "source": [
        "df.isnull().sum()\n"
      ],
      "execution_count": null,
      "outputs": [
        {
          "output_type": "execute_result",
          "data": {
            "text/plain": [
              "index            0\n",
              "input           63\n",
              "name            32\n",
              "qty              0\n",
              "range_end        0\n",
              "unit         26489\n",
              "comment      35908\n",
              "dtype: int64"
            ]
          },
          "metadata": {
            "tags": []
          },
          "execution_count": 32
        }
      ]
    },
    {
      "cell_type": "code",
      "metadata": {
        "id": "Ez2aUKRx8LJk",
        "colab_type": "code",
        "colab": {}
      },
      "source": [
        "from training import generatedata\n",
        "\n",
        "X, y, X_test, y_test = generatedata(\"nyt-ingredients-snapshot-2015.csv\", testprop=0.2, parallel=True)"
      ],
      "execution_count": 27,
      "outputs": []
    },
    {
      "cell_type": "code",
      "metadata": {
        "id": "BOQObihYNHAJ",
        "colab_type": "code",
        "colab": {}
      },
      "source": [
        "#Training\n",
        "%%time\n",
        "from training import trainCRF\n",
        "\n",
        "filename = 'model.crfsuite'\n",
        "trainCRF(X, y, output=filename)"
      ],
      "execution_count": null,
      "outputs": []
    },
    {
      "cell_type": "code",
      "metadata": {
        "id": "GfyXHb8lP6QC",
        "colab_type": "code",
        "colab": {
          "base_uri": "https://localhost:8080/",
          "height": 159
        },
        "outputId": "c1cc6a55-a598-4d47-9e6f-94aee2f8b218"
      },
      "source": [
        "#Training Data Evaluation\n",
        "\n",
        "from evaluate import evaluate\n",
        "\n",
        "accuracy, precision, recall, fscore = evaluate(X, y, filename)\n",
        "\n",
        "print(\"Accuracy:\")\n",
        "print(accuracy)\n",
        "print(\"Precision:\")\n",
        "print(precision)\n",
        "print(\"Recall:\")\n",
        "print(recall)\n",
        "print(\"F-Score\")\n",
        "print(fscore)"
      ],
      "execution_count": null,
      "outputs": [
        {
          "output_type": "stream",
          "text": [
            "Accuracy:\n",
            "{'INGR': 0.8959051306351907, 'QTY': 0.9390052116510351, 'QTY-UR': 0.9249659824231292, 'UNIT': 0.9345101178290259, 'Total': 0.9157275959013917}\n",
            "Precision:\n",
            "{'INGR': 0.9177369744206652, 'QTY': 0.9813806868817806, 'QTY-UR': 0.541958041958042, 'UNIT': 0.922226841266542, 'Total': 0.9333623258799897}\n",
            "Recall:\n",
            "{'INGR': 0.8517239650360169, 'QTY': 0.9825457924077515, 'QTY-UR': 0.7332939089296274, 'UNIT': 0.9701353838304696, 'Total': 0.9076304853266939}\n",
            "F-Score\n",
            "{'INGR': 0.8834991010920389, 'QTY': 0.9819628940435174, 'QTY-UR': 0.623272178939432, 'UNIT': 0.9455746672231449, 'Total': 0.9203165766506621}\n"
          ],
          "name": "stdout"
        }
      ]
    },
    {
      "cell_type": "code",
      "metadata": {
        "id": "5TjHEocWQCeN",
        "colab_type": "code",
        "colab": {
          "base_uri": "https://localhost:8080/",
          "height": 176
        },
        "outputId": "1142bc3f-d066-49e1-9b7b-d8aaff74f371"
      },
      "source": [
        "#Test Set Evaluation\n",
        "\n",
        "accuracy, precision, recall, fscore = evaluate(X_test, y_test, filename)\n",
        "\n",
        "print(\"Accuracy:\")\n",
        "print(accuracy)\n",
        "print(\"Precision:\")\n",
        "print(precision)\n",
        "print(\"Recall:\")\n",
        "print(recall)\n",
        "print(\"F-Score\")\n",
        "print(fscore)\n"
      ],
      "execution_count": null,
      "outputs": [
        {
          "output_type": "stream",
          "text": [
            "Accuracy:\n",
            "{'INGR': 0.888933313947853, 'QTY': 0.9323822976979557, 'QTY-UR': 0.9160440980495094, 'UNIT': 0.92747700073272, 'Total': 0.9103946566205309}\n",
            "Precision:\n",
            "{'INGR': 0.9066589312189777, 'QTY': 0.9798427070253123, 'QTY-UR': 0.4795539033457249, 'UNIT': 0.920094191522763, 'Total': 0.9263259304330189}\n",
            "Recall:\n",
            "{'INGR': 0.8472636366374506, 'QTY': 0.9827654779265544, 'QTY-UR': 0.675392670157068, 'UNIT': 0.970364238410596, 'Total': 0.9050331913207174}\n",
            "F-Score\n",
            "{'INGR': 0.875955594998988, 'QTY': 0.9813019161399213, 'QTY-UR': 0.5608695652173913, 'UNIT': 0.9445608380338437, 'Total': 0.9155557782900671}\n"
          ],
          "name": "stdout"
        }
      ]
    },
    {
      "cell_type": "code",
      "metadata": {
        "id": "iHfacRFXQEjf",
        "colab_type": "code",
        "colab": {}
      },
      "source": [
        "#Sample tagging\n",
        "import pandas as pd\n",
        "from parsing import tokenize, removeiob\n",
        "from evaluate import getlabels\n",
        "\n",
        "def displaytags(tokens, tags):\n",
        "    # Make a table with pandas and transpose to make horizontal\n",
        "    df = pd.DataFrame(tokens, removeiob(pred)).transpose()\n",
        "    # Print string representation with adjusted spacing and display options\n",
        "    print(df.to_string(index=False, justify='center', col_space=8, max_cols=15))\n",
        "\n",
        "df = pd.read_csv('nyt-ingredients-snapshot-2015.csv')\n",
        "df = df.loc[pd.notna(df.name)&pd.notna(df.input)]"
      ],
      "execution_count": null,
      "outputs": []
    },
    {
      "cell_type": "code",
      "metadata": {
        "id": "I_NK3R6xQab6",
        "colab_type": "code",
        "colab": {
          "base_uri": "https://localhost:8080/",
          "height": 558
        },
        "outputId": "e7e13f44-cf77-4003-c9e7-556e178a192b"
      },
      "source": [
        "from numpy.random import randint\n",
        "samples = df.input.iloc[randint(0, len(df), 10)]\n",
        "    \n",
        "for item in samples:\n",
        "    tokens = tokenize(item, preprocess=True)\n",
        "    pred = getlabels(item, filename)\n",
        "    displaytags(tokens, pred)\n",
        "    print('-'*100)"
      ],
      "execution_count": null,
      "outputs": [
        {
          "output_type": "stream",
          "text": [
            "  QTY       UNIT                       INGR     INGR     INGR     INGR     INGR     INGR  \n",
            "   1/2    teaspoon  freshly  ground    black   pepper      ,      more      to      taste \n",
            "----------------------------------------------------------------------------------------------------\n",
            "           INGR     INGR     INGR     INGR     INGR  \n",
            " Grated   Cheddar  cheese      ,       for    garnish\n",
            "----------------------------------------------------------------------------------------------------\n",
            "  QTY      UNIT     INGR  \n",
            "    1       cup     sugar \n",
            "----------------------------------------------------------------------------------------------------\n",
            "  QTY                        INGR     INGR     INGR     INGR     INGR     INGR     INGR     INGR     INGR  \n",
            "    1       to        2     garlic   cloves      ,       to      taste      ,     minced     or     puréed \n",
            "----------------------------------------------------------------------------------------------------\n",
            "  QTY       INGR                                                                      INGR     INGR     INGR  \n",
            "    3     scallions     ,       cut     into    3-inch   pieces      ,      white   portions  lightly  smashed\n",
            "----------------------------------------------------------------------------------------------------\n",
            "  QTY       UNIT     INGR     INGR     INGR     INGR  \n",
            "    1     teaspoon  ground    cumin      ,     toasted\n",
            "----------------------------------------------------------------------------------------------------\n",
            "  QTY        UNIT      INGR      INGR     INGR     INGR     INGR     INGR     INGR     INGR     INGR  \n",
            "    1     tablespoon   green   cardamom   pods       ,     crushed     (       see     note       )   \n",
            "----------------------------------------------------------------------------------------------------\n",
            "  QTY      UNIT     INGR     INGR     INGR     INGR     INGR     INGR  \n",
            "   1/2     stick   butter      ,      cubed     and     kept     cold  \n",
            "----------------------------------------------------------------------------------------------------\n",
            "  INGR     INGR     INGR     INGR     INGR     INGR     INGR     INGR  \n",
            "  Dill      and    mustard   sauce      (       see    recipe      )   \n",
            "----------------------------------------------------------------------------------------------------\n",
            "  INGR     INGR                       INGR     INGR     INGR     INGR  \n",
            "  Salt      and    freshly  ground    black   pepper     to      taste \n",
            "----------------------------------------------------------------------------------------------------\n"
          ],
          "name": "stdout"
        }
      ]
    },
    {
      "cell_type": "code",
      "metadata": {
        "id": "CtSoeAKvQc7S",
        "colab_type": "code",
        "colab": {
          "base_uri": "https://localhost:8080/",
          "height": 662
        },
        "outputId": "e3796b0a-0a84-4128-acab-a6349feed997"
      },
      "source": [
        "recipe = ['1 14-oz. package firm or extra-firm tofu, drained',\n",
        "'1 Tbsp. black peppercorns',\n",
        "'2 garlic cloves',\n",
        "'1 1½\" piece ginger, peeled',\n",
        "'1 Tbsp. cornstarch',\n",
        "'½ tsp. kosher salt',\n",
        "'3 Tbsp. extra-virgin olive oil',\n",
        "'1 lb. asparagus, trimmed, cut into 1½\" pieces',\n",
        "'⅓ cup soy sauce',\n",
        "'1 Tbsp. sugar',\n",
        "'1 tsp. unseasoned rice vinegar',\n",
        "'Cooked white or brown rice (for serving)']\n",
        "\n",
        "for item in recipe:\n",
        "    tokens = tokenize(item, preprocess=True)\n",
        "    pred = getlabels(item, filename)\n",
        "    displaytags(tokens, pred)\n",
        "    print('-'*100)"
      ],
      "execution_count": null,
      "outputs": [
        {
          "output_type": "stream",
          "text": [
            "  QTY                                                               INGR     INGR     INGR  \n",
            "    1      14-oz      .     package   firm      or     extra-firm   tofu       ,     drained\n",
            "----------------------------------------------------------------------------------------------------\n",
            "  QTY      UNIT              INGR       INGR    \n",
            "    1      Tbsp       .      black   peppercorns\n",
            "----------------------------------------------------------------------------------------------------\n",
            "  QTY      INGR     INGR  \n",
            "    2     garlic   cloves \n",
            "----------------------------------------------------------------------------------------------------\n",
            "  QTY                        UNIT     INGR     INGR     INGR  \n",
            "    1      1$1/2      \"      piece   ginger      ,     peeled \n",
            "----------------------------------------------------------------------------------------------------\n",
            "  QTY      UNIT                INGR   \n",
            "    1      Tbsp       .     cornstarch\n",
            "----------------------------------------------------------------------------------------------------\n",
            "  QTY      UNIT              INGR     INGR  \n",
            "   1/2      tsp       .     kosher    salt  \n",
            "----------------------------------------------------------------------------------------------------\n",
            "  QTY      UNIT                            INGR     INGR  \n",
            "    3      Tbsp       .     extra-virgin   olive     oil  \n",
            "----------------------------------------------------------------------------------------------------\n",
            "  QTY      UNIT               INGR      INGR     INGR     INGR     INGR     INGR     INGR     INGR     INGR  \n",
            "    1       lb        .     asparagus     ,     trimmed     ,       cut     into     1$1/2      \"     pieces \n",
            "----------------------------------------------------------------------------------------------------\n",
            "  QTY      UNIT     INGR     INGR  \n",
            "   1/3      cup      soy     sauce \n",
            "----------------------------------------------------------------------------------------------------\n",
            "  QTY      UNIT     INGR     INGR  \n",
            "    1      Tbsp       .      sugar \n",
            "----------------------------------------------------------------------------------------------------\n",
            "  QTY      UNIT                          INGR     INGR  \n",
            "    1       tsp       .     unseasoned   rice    vinegar\n",
            "----------------------------------------------------------------------------------------------------\n",
            "  INGR     INGR     INGR     INGR     INGR     INGR     INGR     INGR     INGR  \n",
            " Cooked    white     or      brown    rice       (       for    serving     )   \n",
            "----------------------------------------------------------------------------------------------------\n"
          ],
          "name": "stdout"
        }
      ]
    },
    {
      "cell_type": "code",
      "metadata": {
        "id": "fPB_3bQGQgkN",
        "colab_type": "code",
        "colab": {
          "base_uri": "https://localhost:8080/",
          "height": 680
        },
        "outputId": "9a3dbfc7-7c28-491a-f2ab-cc265f00073f"
      },
      "source": [
        "print('Enter a single recipe line to be tagged or type EXIT to stop')\n",
        "while True:\n",
        "    \n",
        "    s = input('')\n",
        "    if s.lower() == 'exit': break\n",
        "    \n",
        "    tokens = tokenize(s, preprocess=True)\n",
        "    pred = getlabels(s, filename)\n",
        "    print('')\n",
        "    displaytags(tokens, pred)\n",
        "    print('')\n",
        "    print('-'*100)"
      ],
      "execution_count": null,
      "outputs": [
        {
          "output_type": "stream",
          "text": [
            "Enter a single recipe line to be tagged or type EXIT to stop\n"
          ],
          "name": "stdout"
        },
        {
          "output_type": "error",
          "ename": "KeyboardInterrupt",
          "evalue": "ignored",
          "traceback": [
            "\u001b[0;31m---------------------------------------------------------------------------\u001b[0m",
            "\u001b[0;31mKeyboardInterrupt\u001b[0m                         Traceback (most recent call last)",
            "\u001b[0;32m/usr/local/lib/python3.6/dist-packages/ipykernel/kernelbase.py\u001b[0m in \u001b[0;36m_input_request\u001b[0;34m(self, prompt, ident, parent, password)\u001b[0m\n\u001b[1;32m    728\u001b[0m             \u001b[0;32mtry\u001b[0m\u001b[0;34m:\u001b[0m\u001b[0;34m\u001b[0m\u001b[0;34m\u001b[0m\u001b[0m\n\u001b[0;32m--> 729\u001b[0;31m                 \u001b[0mident\u001b[0m\u001b[0;34m,\u001b[0m \u001b[0mreply\u001b[0m \u001b[0;34m=\u001b[0m \u001b[0mself\u001b[0m\u001b[0;34m.\u001b[0m\u001b[0msession\u001b[0m\u001b[0;34m.\u001b[0m\u001b[0mrecv\u001b[0m\u001b[0;34m(\u001b[0m\u001b[0mself\u001b[0m\u001b[0;34m.\u001b[0m\u001b[0mstdin_socket\u001b[0m\u001b[0;34m,\u001b[0m \u001b[0;36m0\u001b[0m\u001b[0;34m)\u001b[0m\u001b[0;34m\u001b[0m\u001b[0;34m\u001b[0m\u001b[0m\n\u001b[0m\u001b[1;32m    730\u001b[0m             \u001b[0;32mexcept\u001b[0m \u001b[0mException\u001b[0m\u001b[0;34m:\u001b[0m\u001b[0;34m\u001b[0m\u001b[0;34m\u001b[0m\u001b[0m\n",
            "\u001b[0;32m/usr/local/lib/python3.6/dist-packages/jupyter_client/session.py\u001b[0m in \u001b[0;36mrecv\u001b[0;34m(self, socket, mode, content, copy)\u001b[0m\n\u001b[1;32m    802\u001b[0m         \u001b[0;32mtry\u001b[0m\u001b[0;34m:\u001b[0m\u001b[0;34m\u001b[0m\u001b[0;34m\u001b[0m\u001b[0m\n\u001b[0;32m--> 803\u001b[0;31m             \u001b[0mmsg_list\u001b[0m \u001b[0;34m=\u001b[0m \u001b[0msocket\u001b[0m\u001b[0;34m.\u001b[0m\u001b[0mrecv_multipart\u001b[0m\u001b[0;34m(\u001b[0m\u001b[0mmode\u001b[0m\u001b[0;34m,\u001b[0m \u001b[0mcopy\u001b[0m\u001b[0;34m=\u001b[0m\u001b[0mcopy\u001b[0m\u001b[0;34m)\u001b[0m\u001b[0;34m\u001b[0m\u001b[0;34m\u001b[0m\u001b[0m\n\u001b[0m\u001b[1;32m    804\u001b[0m         \u001b[0;32mexcept\u001b[0m \u001b[0mzmq\u001b[0m\u001b[0;34m.\u001b[0m\u001b[0mZMQError\u001b[0m \u001b[0;32mas\u001b[0m \u001b[0me\u001b[0m\u001b[0;34m:\u001b[0m\u001b[0;34m\u001b[0m\u001b[0;34m\u001b[0m\u001b[0m\n",
            "\u001b[0;32m/usr/local/lib/python3.6/dist-packages/zmq/sugar/socket.py\u001b[0m in \u001b[0;36mrecv_multipart\u001b[0;34m(self, flags, copy, track)\u001b[0m\n\u001b[1;32m    474\u001b[0m         \"\"\"\n\u001b[0;32m--> 475\u001b[0;31m         \u001b[0mparts\u001b[0m \u001b[0;34m=\u001b[0m \u001b[0;34m[\u001b[0m\u001b[0mself\u001b[0m\u001b[0;34m.\u001b[0m\u001b[0mrecv\u001b[0m\u001b[0;34m(\u001b[0m\u001b[0mflags\u001b[0m\u001b[0;34m,\u001b[0m \u001b[0mcopy\u001b[0m\u001b[0;34m=\u001b[0m\u001b[0mcopy\u001b[0m\u001b[0;34m,\u001b[0m \u001b[0mtrack\u001b[0m\u001b[0;34m=\u001b[0m\u001b[0mtrack\u001b[0m\u001b[0;34m)\u001b[0m\u001b[0;34m]\u001b[0m\u001b[0;34m\u001b[0m\u001b[0;34m\u001b[0m\u001b[0m\n\u001b[0m\u001b[1;32m    476\u001b[0m         \u001b[0;31m# have first part already, only loop while more to receive\u001b[0m\u001b[0;34m\u001b[0m\u001b[0;34m\u001b[0m\u001b[0;34m\u001b[0m\u001b[0m\n",
            "\u001b[0;32mzmq/backend/cython/socket.pyx\u001b[0m in \u001b[0;36mzmq.backend.cython.socket.Socket.recv\u001b[0;34m()\u001b[0m\n",
            "\u001b[0;32mzmq/backend/cython/socket.pyx\u001b[0m in \u001b[0;36mzmq.backend.cython.socket.Socket.recv\u001b[0;34m()\u001b[0m\n",
            "\u001b[0;32mzmq/backend/cython/socket.pyx\u001b[0m in \u001b[0;36mzmq.backend.cython.socket._recv_copy\u001b[0;34m()\u001b[0m\n",
            "\u001b[0;32m/usr/local/lib/python3.6/dist-packages/zmq/backend/cython/checkrc.pxd\u001b[0m in \u001b[0;36mzmq.backend.cython.checkrc._check_rc\u001b[0;34m()\u001b[0m\n",
            "\u001b[0;31mKeyboardInterrupt\u001b[0m: ",
            "\nDuring handling of the above exception, another exception occurred:\n",
            "\u001b[0;31mKeyboardInterrupt\u001b[0m                         Traceback (most recent call last)",
            "\u001b[0;32m<ipython-input-22-c92fef947e8f>\u001b[0m in \u001b[0;36m<module>\u001b[0;34m()\u001b[0m\n\u001b[1;32m      2\u001b[0m \u001b[0;32mwhile\u001b[0m \u001b[0;32mTrue\u001b[0m\u001b[0;34m:\u001b[0m\u001b[0;34m\u001b[0m\u001b[0;34m\u001b[0m\u001b[0m\n\u001b[1;32m      3\u001b[0m \u001b[0;34m\u001b[0m\u001b[0m\n\u001b[0;32m----> 4\u001b[0;31m     \u001b[0ms\u001b[0m \u001b[0;34m=\u001b[0m \u001b[0minput\u001b[0m\u001b[0;34m(\u001b[0m\u001b[0;34m''\u001b[0m\u001b[0;34m)\u001b[0m\u001b[0;34m\u001b[0m\u001b[0;34m\u001b[0m\u001b[0m\n\u001b[0m\u001b[1;32m      5\u001b[0m     \u001b[0;32mif\u001b[0m \u001b[0ms\u001b[0m\u001b[0;34m.\u001b[0m\u001b[0mlower\u001b[0m\u001b[0;34m(\u001b[0m\u001b[0;34m)\u001b[0m \u001b[0;34m==\u001b[0m \u001b[0;34m'exit'\u001b[0m\u001b[0;34m:\u001b[0m \u001b[0;32mbreak\u001b[0m\u001b[0;34m\u001b[0m\u001b[0;34m\u001b[0m\u001b[0m\n\u001b[1;32m      6\u001b[0m \u001b[0;34m\u001b[0m\u001b[0m\n",
            "\u001b[0;32m/usr/local/lib/python3.6/dist-packages/ipykernel/kernelbase.py\u001b[0m in \u001b[0;36mraw_input\u001b[0;34m(self, prompt)\u001b[0m\n\u001b[1;32m    702\u001b[0m             \u001b[0mself\u001b[0m\u001b[0;34m.\u001b[0m\u001b[0m_parent_ident\u001b[0m\u001b[0;34m,\u001b[0m\u001b[0;34m\u001b[0m\u001b[0;34m\u001b[0m\u001b[0m\n\u001b[1;32m    703\u001b[0m             \u001b[0mself\u001b[0m\u001b[0;34m.\u001b[0m\u001b[0m_parent_header\u001b[0m\u001b[0;34m,\u001b[0m\u001b[0;34m\u001b[0m\u001b[0;34m\u001b[0m\u001b[0m\n\u001b[0;32m--> 704\u001b[0;31m             \u001b[0mpassword\u001b[0m\u001b[0;34m=\u001b[0m\u001b[0;32mFalse\u001b[0m\u001b[0;34m,\u001b[0m\u001b[0;34m\u001b[0m\u001b[0;34m\u001b[0m\u001b[0m\n\u001b[0m\u001b[1;32m    705\u001b[0m         )\n\u001b[1;32m    706\u001b[0m \u001b[0;34m\u001b[0m\u001b[0m\n",
            "\u001b[0;32m/usr/local/lib/python3.6/dist-packages/ipykernel/kernelbase.py\u001b[0m in \u001b[0;36m_input_request\u001b[0;34m(self, prompt, ident, parent, password)\u001b[0m\n\u001b[1;32m    732\u001b[0m             \u001b[0;32mexcept\u001b[0m \u001b[0mKeyboardInterrupt\u001b[0m\u001b[0;34m:\u001b[0m\u001b[0;34m\u001b[0m\u001b[0;34m\u001b[0m\u001b[0m\n\u001b[1;32m    733\u001b[0m                 \u001b[0;31m# re-raise KeyboardInterrupt, to truncate traceback\u001b[0m\u001b[0;34m\u001b[0m\u001b[0;34m\u001b[0m\u001b[0;34m\u001b[0m\u001b[0m\n\u001b[0;32m--> 734\u001b[0;31m                 \u001b[0;32mraise\u001b[0m \u001b[0mKeyboardInterrupt\u001b[0m\u001b[0;34m\u001b[0m\u001b[0;34m\u001b[0m\u001b[0m\n\u001b[0m\u001b[1;32m    735\u001b[0m             \u001b[0;32melse\u001b[0m\u001b[0;34m:\u001b[0m\u001b[0;34m\u001b[0m\u001b[0;34m\u001b[0m\u001b[0m\n\u001b[1;32m    736\u001b[0m                 \u001b[0;32mbreak\u001b[0m\u001b[0;34m\u001b[0m\u001b[0;34m\u001b[0m\u001b[0m\n",
            "\u001b[0;31mKeyboardInterrupt\u001b[0m: "
          ]
        }
      ]
    }
  ]
}